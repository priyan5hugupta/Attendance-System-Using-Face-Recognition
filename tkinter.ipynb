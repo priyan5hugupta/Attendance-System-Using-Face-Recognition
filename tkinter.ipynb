{
 "cells": [
  {
   "cell_type": "code",
   "execution_count": 14,
   "metadata": {},
   "outputs": [],
   "source": [
    "import tkinter as tk\n",
    "from tkinter import messagebox\n",
    "import subprocess\n",
    "\n",
    "\n",
    "def execute_file():\n",
    "    filename = \"D:/Minor 2/Test/apply.py\"  # Replace this with the path to your Python file\n",
    "    process = subprocess.Popen([\"python\", filename], stdout=subprocess.PIPE, stderr=subprocess.PIPE)\n",
    "    output, error = process.communicate()\n",
    "    output_text.delete(1.0, tk.END)\n",
    "    output_text.insert(tk.END, output.decode())\n",
    "    output_text.insert(tk.END, error.decode())\n",
    "\n",
    "\n",
    "root = tk.Tk()\n",
    "root.title(\"Execute Python File\")\n",
    "\n",
    "    \n",
    "execute_button = tk.Button(root, text=\"Execute File\", command=execute_file)\n",
    "execute_button.pack()\n",
    "output_text = tk.Text(root, height=10, width=50)\n",
    "output_text.pack()\n",
    "\n",
    "root.mainloop()\n",
    "\n"
   ]
  }
 ],
 "metadata": {
  "kernelspec": {
   "display_name": "Python 3",
   "language": "python",
   "name": "python3"
  },
  "language_info": {
   "codemirror_mode": {
    "name": "ipython",
    "version": 3
   },
   "file_extension": ".py",
   "mimetype": "text/x-python",
   "name": "python",
   "nbconvert_exporter": "python",
   "pygments_lexer": "ipython3",
   "version": "3.10.7"
  }
 },
 "nbformat": 4,
 "nbformat_minor": 2
}
