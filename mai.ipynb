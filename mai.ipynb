{
 "cells": [
  {
   "cell_type": "code",
   "execution_count": 81,
   "metadata": {},
   "outputs": [],
   "source": [
    "import face_recognition\n",
    "import cv2\n",
    "from PIL import Image, ImageDraw, ImageFont\n",
    "import sys\n",
    "import pandas as pd\n",
    "import datetime\n",
    "import pygame"
   ]
  },
  {
   "cell_type": "code",
   "execution_count": 82,
   "metadata": {},
   "outputs": [],
   "source": [
    "df = pd.read_csv('D:/Minor 2/record.csv')\n",
    "sapid = df[\"SAPID\"].tolist()\n",
    "name = df[\"Name\"].tolist()\n",
    "photolocation = df[\"Photo Location\"].tolist()\n",
    "audiolocation = df[\"Audio Location\"].tolist()\n",
    "n = len(sapid)\n",
    "std = []\n",
    "std_encod = []\n",
    "audio = []\n"
   ]
  },
  {
   "cell_type": "code",
   "execution_count": 83,
   "metadata": {},
   "outputs": [],
   "source": [
    "for i in range(n):\n",
    "    std.append(face_recognition.load_image_file(photolocation[i]))\n",
    "    std_encod.append(face_recognition.face_encodings(std[i])[0])"
   ]
  },
  {
   "cell_type": "code",
   "execution_count": 84,
   "metadata": {},
   "outputs": [
    {
     "data": {
      "text/plain": [
       "True"
      ]
     },
     "execution_count": 84,
     "metadata": {},
     "output_type": "execute_result"
    }
   ],
   "source": [
    "# Initialize the camera\n",
    "cap = cv2.VideoCapture(0)\n",
    "\n",
    "while True:\n",
    "  \n",
    "    # frame-by-frame\n",
    "    ret, frame = cap.read()\n",
    "    frame_copy = frame.copy()\n",
    "\n",
    "    face_locations = face_recognition.face_locations(frame_copy)\n",
    "\n",
    "    for top, right, bottom, left in face_locations:\n",
    "        cv2.rectangle(frame_copy, (left, top), (right, bottom), (0, 255, 0), 2)\n",
    "        # Crop the face from the frame\n",
    "        face = frame[top-30:bottom+30, left-10:right+10]\n",
    "        cv2.imshow(\"Camera Feed\", frame_copy)\n",
    "    # Break the loop if 'q' is pressed\n",
    "    if cv2.waitKey(1) & 0xFF == ord('a'):\n",
    "        break\n",
    "\n",
    "# Release the camera and close all windows\n",
    "cap.release()\n",
    "cv2.destroyAllWindows()\n",
    "# Find all face locations in the frame\n",
    "cv2.imwrite('Student.png', image)\n",
    "\n"
   ]
  },
  {
   "cell_type": "code",
   "execution_count": 85,
   "metadata": {},
   "outputs": [],
   "source": [
    "st =face_recognition.load_image_file('Student.png')"
   ]
  },
  {
   "cell_type": "code",
   "execution_count": 86,
   "metadata": {},
   "outputs": [
    {
     "name": "stdout",
     "output_type": "stream",
     "text": [
      "[False, False, True]\n",
      "2\n"
     ]
    }
   ],
   "source": [
    "#Face Recognition Module\n",
    "def identify_student(photo):\n",
    "    st_encode = face_recognition.face_encodings(photo)[0]\n",
    "    found = face_recognition.compare_faces(std_encod, st_encode, tolerance = 0.5)    \n",
    "    print(found)\n",
    "    \n",
    "    index = -1\n",
    "    for i in range(n):\n",
    "        if found[i]:\n",
    "            index = i\n",
    "    return(index)\n",
    "\n",
    "\n",
    "std_index = identify_student(st)    \n",
    "print(std_index)   \n"
   ]
  },
  {
   "cell_type": "code",
   "execution_count": 88,
   "metadata": {},
   "outputs": [
    {
     "name": "stdout",
     "output_type": "stream",
     "text": [
      "\n",
      "500096748 Priyanshu Gupta   2024-08-24 17:11:35.269018\n"
     ]
    }
   ],
   "source": [
    "#Attendance record in a data file attendance.txt\n",
    "if (std_index != -1):\n",
    "    x = str(datetime.datetime.now())\n",
    "    eno = str(sapid[std_index])\n",
    "    f = name[std_index]\n",
    "    ar = \"\\n\"+eno+\" \"+f+\" \"+ \"  \"+x\n",
    "    f = open(\"D:/Minor 2/Attendance.txt\", \"a\")\n",
    "    f.write(ar)\n",
    "    f.close()  \n",
    "    print(ar)\n",
    "    "
   ]
  },
  {
   "cell_type": "code",
   "execution_count": 89,
   "metadata": {},
   "outputs": [],
   "source": [
    "#Display Attendance Module\n",
    "pil_st = Image.fromarray(st)\n",
    "draw = ImageDraw.Draw(pil_st)\n",
    "fnt = ImageFont.truetype(\"arial.ttf\", 60)\n",
    "if std_index ==-1:\n",
    "    name =\"Face NOT Recognized\"\n",
    "else:\n",
    "    nam = name[std_index]\n",
    "x = 100\n",
    "y = st.shape[0] - 100\n",
    "draw.text((x, y), nam, font=fnt, fill=(0,0,0))\n",
    "pil_st.show()\n"
   ]
  },
  {
   "cell_type": "code",
   "execution_count": 90,
   "metadata": {},
   "outputs": [],
   "source": [
    "#Announce Attendance Recorded Module\n",
    "audioloc = audiolocation[std_index]\n",
    "pygame.mixer.init()\n",
    "if std_index ==-1:\n",
    "    pygame.mixer.music.load(\n",
    "        \"D:/Minor 2/absent.mp3\")\n",
    "    pygame.mixer.music.play()\n",
    "else:\n",
    "    pygame.mixer.music.load(audioloc)\n",
    "    pygame.mixer.music.play()\n",
    "    pygame.mixer.music.queue(\n",
    "        \"D:/Minor 2/present.mp3\")\n",
    "    pygame.mixer.music.play()\n",
    "\n"
   ]
  }
 ],
 "metadata": {
  "kernelspec": {
   "display_name": "Python 3",
   "language": "python",
   "name": "python3"
  },
  "language_info": {
   "codemirror_mode": {
    "name": "ipython",
    "version": 3
   },
   "file_extension": ".py",
   "mimetype": "text/x-python",
   "name": "python",
   "nbconvert_exporter": "python",
   "pygments_lexer": "ipython3",
   "version": "3.10.7"
  }
 },
 "nbformat": 4,
 "nbformat_minor": 2
}
